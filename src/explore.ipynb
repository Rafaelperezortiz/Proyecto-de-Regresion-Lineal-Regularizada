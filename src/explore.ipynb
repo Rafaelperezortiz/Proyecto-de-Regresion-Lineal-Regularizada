{
    "cells": [
        {
            "cell_type": "markdown",
            "metadata": {},
            "source": [
                "# Proyecto de Regresion Lineal Regularizada\n"
            ]
        },
        {
            "cell_type": "markdown",
            "metadata": {},
            "source": [
                "IMPORTS"
            ]
        },
        {
            "cell_type": "code",
            "execution_count": 11,
            "metadata": {},
            "outputs": [],
            "source": [
                "import pandas as pd\n",
                "import numpy as np\n",
                "import seaborn as sns\n",
                "import matplotlib.pyplot as plt\n",
                "from pickle import dump, load\n",
                "from sklearn.feature_selection import chi2 , SelectKBest, mutual_info_regression\n",
                "from sklearn.feature_selection import f_classif, f_regression\n",
                "from sklearn.model_selection import train_test_split, GridSearchCV\n",
                "from sklearn.preprocessing import LabelEncoder\n",
                "from sklearn.linear_model import LogisticRegression, LinearRegression, Lasso, Ridge\n",
                "from sklearn.model_selection import RandomizedSearchCV\n",
                "from sklearn.metrics import accuracy_score, f1_score, mean_squared_error, r2_score, make_scorer, classification_report\n",
                "from sklearn.preprocessing import StandardScaler, MinMaxScaler\n",
                "from sklearn import metrics"
            ]
        },
        {
            "cell_type": "code",
            "execution_count": 2,
            "metadata": {},
            "outputs": [
                {
                    "data": {
                        "text/html": [
                            "<div>\n",
                            "<style scoped>\n",
                            "    .dataframe tbody tr th:only-of-type {\n",
                            "        vertical-align: middle;\n",
                            "    }\n",
                            "\n",
                            "    .dataframe tbody tr th {\n",
                            "        vertical-align: top;\n",
                            "    }\n",
                            "\n",
                            "    .dataframe thead th {\n",
                            "        text-align: right;\n",
                            "    }\n",
                            "</style>\n",
                            "<table border=\"1\" class=\"dataframe\">\n",
                            "  <thead>\n",
                            "    <tr style=\"text-align: right;\">\n",
                            "      <th></th>\n",
                            "      <th>fips</th>\n",
                            "      <th>TOT_POP</th>\n",
                            "      <th>0-9</th>\n",
                            "      <th>0-9 y/o % of total pop</th>\n",
                            "      <th>19-Oct</th>\n",
                            "      <th>10-19 y/o % of total pop</th>\n",
                            "      <th>20-29</th>\n",
                            "      <th>20-29 y/o % of total pop</th>\n",
                            "      <th>30-39</th>\n",
                            "      <th>30-39 y/o % of total pop</th>\n",
                            "      <th>...</th>\n",
                            "      <th>COPD_number</th>\n",
                            "      <th>diabetes_prevalence</th>\n",
                            "      <th>diabetes_Lower 95% CI</th>\n",
                            "      <th>diabetes_Upper 95% CI</th>\n",
                            "      <th>diabetes_number</th>\n",
                            "      <th>CKD_prevalence</th>\n",
                            "      <th>CKD_Lower 95% CI</th>\n",
                            "      <th>CKD_Upper 95% CI</th>\n",
                            "      <th>CKD_number</th>\n",
                            "      <th>Urban_rural_code</th>\n",
                            "    </tr>\n",
                            "  </thead>\n",
                            "  <tbody>\n",
                            "    <tr>\n",
                            "      <th>0</th>\n",
                            "      <td>1001</td>\n",
                            "      <td>55601</td>\n",
                            "      <td>6787</td>\n",
                            "      <td>12.206615</td>\n",
                            "      <td>7637</td>\n",
                            "      <td>13.735364</td>\n",
                            "      <td>6878</td>\n",
                            "      <td>12.370281</td>\n",
                            "      <td>7089</td>\n",
                            "      <td>12.749771</td>\n",
                            "      <td>...</td>\n",
                            "      <td>3644</td>\n",
                            "      <td>12.9</td>\n",
                            "      <td>11.9</td>\n",
                            "      <td>13.8</td>\n",
                            "      <td>5462</td>\n",
                            "      <td>3.1</td>\n",
                            "      <td>2.9</td>\n",
                            "      <td>3.3</td>\n",
                            "      <td>1326</td>\n",
                            "      <td>3</td>\n",
                            "    </tr>\n",
                            "    <tr>\n",
                            "      <th>1</th>\n",
                            "      <td>1003</td>\n",
                            "      <td>218022</td>\n",
                            "      <td>24757</td>\n",
                            "      <td>11.355276</td>\n",
                            "      <td>26913</td>\n",
                            "      <td>12.344167</td>\n",
                            "      <td>23579</td>\n",
                            "      <td>10.814964</td>\n",
                            "      <td>25213</td>\n",
                            "      <td>11.564429</td>\n",
                            "      <td>...</td>\n",
                            "      <td>14692</td>\n",
                            "      <td>12.0</td>\n",
                            "      <td>11.0</td>\n",
                            "      <td>13.1</td>\n",
                            "      <td>20520</td>\n",
                            "      <td>3.2</td>\n",
                            "      <td>3.0</td>\n",
                            "      <td>3.5</td>\n",
                            "      <td>5479</td>\n",
                            "      <td>4</td>\n",
                            "    </tr>\n",
                            "    <tr>\n",
                            "      <th>2</th>\n",
                            "      <td>1005</td>\n",
                            "      <td>24881</td>\n",
                            "      <td>2732</td>\n",
                            "      <td>10.980266</td>\n",
                            "      <td>2960</td>\n",
                            "      <td>11.896628</td>\n",
                            "      <td>3268</td>\n",
                            "      <td>13.134520</td>\n",
                            "      <td>3201</td>\n",
                            "      <td>12.865239</td>\n",
                            "      <td>...</td>\n",
                            "      <td>2373</td>\n",
                            "      <td>19.7</td>\n",
                            "      <td>18.6</td>\n",
                            "      <td>20.6</td>\n",
                            "      <td>3870</td>\n",
                            "      <td>4.5</td>\n",
                            "      <td>4.2</td>\n",
                            "      <td>4.8</td>\n",
                            "      <td>887</td>\n",
                            "      <td>6</td>\n",
                            "    </tr>\n",
                            "    <tr>\n",
                            "      <th>3</th>\n",
                            "      <td>1007</td>\n",
                            "      <td>22400</td>\n",
                            "      <td>2456</td>\n",
                            "      <td>10.964286</td>\n",
                            "      <td>2596</td>\n",
                            "      <td>11.589286</td>\n",
                            "      <td>3029</td>\n",
                            "      <td>13.522321</td>\n",
                            "      <td>3113</td>\n",
                            "      <td>13.897321</td>\n",
                            "      <td>...</td>\n",
                            "      <td>1789</td>\n",
                            "      <td>14.1</td>\n",
                            "      <td>13.2</td>\n",
                            "      <td>14.9</td>\n",
                            "      <td>2511</td>\n",
                            "      <td>3.3</td>\n",
                            "      <td>3.1</td>\n",
                            "      <td>3.6</td>\n",
                            "      <td>595</td>\n",
                            "      <td>2</td>\n",
                            "    </tr>\n",
                            "    <tr>\n",
                            "      <th>4</th>\n",
                            "      <td>1009</td>\n",
                            "      <td>57840</td>\n",
                            "      <td>7095</td>\n",
                            "      <td>12.266598</td>\n",
                            "      <td>7570</td>\n",
                            "      <td>13.087828</td>\n",
                            "      <td>6742</td>\n",
                            "      <td>11.656293</td>\n",
                            "      <td>6884</td>\n",
                            "      <td>11.901798</td>\n",
                            "      <td>...</td>\n",
                            "      <td>4661</td>\n",
                            "      <td>13.5</td>\n",
                            "      <td>12.6</td>\n",
                            "      <td>14.5</td>\n",
                            "      <td>6017</td>\n",
                            "      <td>3.4</td>\n",
                            "      <td>3.2</td>\n",
                            "      <td>3.7</td>\n",
                            "      <td>1507</td>\n",
                            "      <td>2</td>\n",
                            "    </tr>\n",
                            "  </tbody>\n",
                            "</table>\n",
                            "<p>5 rows × 108 columns</p>\n",
                            "</div>"
                        ],
                        "text/plain": [
                            "   fips  TOT_POP    0-9  0-9 y/o % of total pop  19-Oct  \\\n",
                            "0  1001    55601   6787               12.206615    7637   \n",
                            "1  1003   218022  24757               11.355276   26913   \n",
                            "2  1005    24881   2732               10.980266    2960   \n",
                            "3  1007    22400   2456               10.964286    2596   \n",
                            "4  1009    57840   7095               12.266598    7570   \n",
                            "\n",
                            "   10-19 y/o % of total pop  20-29  20-29 y/o % of total pop  30-39  \\\n",
                            "0                 13.735364   6878                 12.370281   7089   \n",
                            "1                 12.344167  23579                 10.814964  25213   \n",
                            "2                 11.896628   3268                 13.134520   3201   \n",
                            "3                 11.589286   3029                 13.522321   3113   \n",
                            "4                 13.087828   6742                 11.656293   6884   \n",
                            "\n",
                            "   30-39 y/o % of total pop  ...  COPD_number  diabetes_prevalence  \\\n",
                            "0                 12.749771  ...         3644                 12.9   \n",
                            "1                 11.564429  ...        14692                 12.0   \n",
                            "2                 12.865239  ...         2373                 19.7   \n",
                            "3                 13.897321  ...         1789                 14.1   \n",
                            "4                 11.901798  ...         4661                 13.5   \n",
                            "\n",
                            "   diabetes_Lower 95% CI  diabetes_Upper 95% CI  diabetes_number  \\\n",
                            "0                   11.9                   13.8             5462   \n",
                            "1                   11.0                   13.1            20520   \n",
                            "2                   18.6                   20.6             3870   \n",
                            "3                   13.2                   14.9             2511   \n",
                            "4                   12.6                   14.5             6017   \n",
                            "\n",
                            "   CKD_prevalence  CKD_Lower 95% CI  CKD_Upper 95% CI  CKD_number  \\\n",
                            "0             3.1               2.9               3.3        1326   \n",
                            "1             3.2               3.0               3.5        5479   \n",
                            "2             4.5               4.2               4.8         887   \n",
                            "3             3.3               3.1               3.6         595   \n",
                            "4             3.4               3.2               3.7        1507   \n",
                            "\n",
                            "   Urban_rural_code  \n",
                            "0                 3  \n",
                            "1                 4  \n",
                            "2                 6  \n",
                            "3                 2  \n",
                            "4                 2  \n",
                            "\n",
                            "[5 rows x 108 columns]"
                        ]
                    },
                    "execution_count": 2,
                    "metadata": {},
                    "output_type": "execute_result"
                }
            ],
            "source": [
                "total_data = pd.read_csv(\"https://raw.githubusercontent.com/4GeeksAcademy/regularized-linear-regression-project-tutorial/main/demographic_health_data.csv\")\n",
                "total_data.to_csv(\"../data/raw/diabetes_data.csv\", index=False)\n",
                "\n",
                "total_data.head()"
            ]
        },
        {
            "cell_type": "markdown",
            "metadata": {},
            "source": [
                "# EDA - EXPLORATORY DATA ANALISYS"
            ]
        },
        {
            "cell_type": "code",
            "execution_count": 3,
            "metadata": {},
            "outputs": [
                {
                    "data": {
                        "text/plain": [
                            "(3140, 108)"
                        ]
                    },
                    "execution_count": 3,
                    "metadata": {},
                    "output_type": "execute_result"
                }
            ],
            "source": [
                "total_data.shape"
            ]
        },
        {
            "cell_type": "code",
            "execution_count": 4,
            "metadata": {},
            "outputs": [
                {
                    "name": "stdout",
                    "output_type": "stream",
                    "text": [
                        "<class 'pandas.core.frame.DataFrame'>\n",
                        "RangeIndex: 3140 entries, 0 to 3139\n",
                        "Columns: 108 entries, fips to Urban_rural_code\n",
                        "dtypes: float64(61), int64(45), object(2)\n",
                        "memory usage: 2.6+ MB\n"
                    ]
                }
            ],
            "source": [
                "total_data.info()"
            ]
        },
        {
            "cell_type": "markdown",
            "metadata": {},
            "source": [
                "Viendo estos datos podemos comprobar un total de 3140 filas y 108 columnas, ahora comprobamos si existen datos duplicados."
            ]
        },
        {
            "cell_type": "code",
            "execution_count": 5,
            "metadata": {},
            "outputs": [
                {
                    "data": {
                        "text/plain": [
                            "0"
                        ]
                    },
                    "execution_count": 5,
                    "metadata": {},
                    "output_type": "execute_result"
                }
            ],
            "source": [
                "total_data.duplicated().sum()"
            ]
        },
        {
            "cell_type": "markdown",
            "metadata": {},
            "source": [
                "Existen demasiadas columnas, reducimos el analisis a solo diabeticos."
            ]
        },
        {
            "cell_type": "code",
            "execution_count": 6,
            "metadata": {},
            "outputs": [],
            "source": [
                "total_data.to_csv(\"/workspaces/Proyecto-de-Regresion-Lineal-Regularizada/data/raw/diabetes_data.csv\", index= False)"
            ]
        },
        {
            "cell_type": "markdown",
            "metadata": {},
            "source": [
                "FEATURE ENGINEERING"
            ]
        },
        {
            "cell_type": "code",
            "execution_count": 8,
            "metadata": {},
            "outputs": [],
            "source": [
                "total_data = pd.read_csv(\"/workspaces/Proyecto-de-Regresion-Lineal-Regularizada/data/raw/diabetes_data.csv\")\n"
            ]
        },
        {
            "cell_type": "markdown",
            "metadata": {},
            "source": [
                "FEATURE SCALING"
            ]
        },
        {
            "cell_type": "code",
            "execution_count": 9,
            "metadata": {},
            "outputs": [],
            "source": [
                "data_types = total_data.dtypes\n",
                "numeric_columns = [c for c in list(data_types[data_types != \"object\"].index) if c != \"Heart disease_number\"]\n",
                "\n",
                "scaler = StandardScaler()\n",
                "norm_features = scaler.fit_transform(total_data[numeric_columns])\n",
                "\n",
                "total_data_scal = pd.DataFrame(norm_features, index = total_data.index, columns = numeric_columns)\n",
                "total_data_scal[\"Heart disease_number\"] = total_data[\"Heart disease_number\"]\n",
                "total_data_scal.head()\n",
                "total_data_scal.to_csv(\"../data/interim/scaled_features.csv\", index=False)"
            ]
        },
        {
            "cell_type": "markdown",
            "metadata": {},
            "source": [
                "FEATURE SELECTION"
            ]
        },
        {
            "cell_type": "markdown",
            "metadata": {},
            "source": [
                "Ya hemos preparado el conjunto de datos ahora procememos a dividirlos:"
            ]
        },
        {
            "cell_type": "code",
            "execution_count": 12,
            "metadata": {},
            "outputs": [
                {
                    "data": {
                        "text/html": [
                            "<div>\n",
                            "<style scoped>\n",
                            "    .dataframe tbody tr th:only-of-type {\n",
                            "        vertical-align: middle;\n",
                            "    }\n",
                            "\n",
                            "    .dataframe tbody tr th {\n",
                            "        vertical-align: top;\n",
                            "    }\n",
                            "\n",
                            "    .dataframe thead th {\n",
                            "        text-align: right;\n",
                            "    }\n",
                            "</style>\n",
                            "<table border=\"1\" class=\"dataframe\">\n",
                            "  <thead>\n",
                            "    <tr style=\"text-align: right;\">\n",
                            "      <th></th>\n",
                            "      <th>TOT_POP</th>\n",
                            "      <th>0-9</th>\n",
                            "      <th>19-Oct</th>\n",
                            "      <th>20-29</th>\n",
                            "      <th>30-39</th>\n",
                            "      <th>40-49</th>\n",
                            "      <th>50-59</th>\n",
                            "      <th>60-69</th>\n",
                            "      <th>70-79</th>\n",
                            "      <th>80+</th>\n",
                            "      <th>...</th>\n",
                            "      <th>Family Medicine/General Practice Primary Care (2019)</th>\n",
                            "      <th>Total Specialist Physicians (2019)</th>\n",
                            "      <th>Total Population</th>\n",
                            "      <th>Population Aged 60+</th>\n",
                            "      <th>county_pop2018_18 and older</th>\n",
                            "      <th>anycondition_number</th>\n",
                            "      <th>Obesity_number</th>\n",
                            "      <th>COPD_number</th>\n",
                            "      <th>diabetes_number</th>\n",
                            "      <th>CKD_number</th>\n",
                            "    </tr>\n",
                            "  </thead>\n",
                            "  <tbody>\n",
                            "    <tr>\n",
                            "      <th>0</th>\n",
                            "      <td>-0.232556</td>\n",
                            "      <td>-0.227731</td>\n",
                            "      <td>-0.234284</td>\n",
                            "      <td>-0.232951</td>\n",
                            "      <td>-0.226353</td>\n",
                            "      <td>-0.231316</td>\n",
                            "      <td>-0.229599</td>\n",
                            "      <td>-0.233425</td>\n",
                            "      <td>-0.234680</td>\n",
                            "      <td>-0.234420</td>\n",
                            "      <td>...</td>\n",
                            "      <td>-0.212643</td>\n",
                            "      <td>-0.208590</td>\n",
                            "      <td>-0.231195</td>\n",
                            "      <td>-0.229737</td>\n",
                            "      <td>-0.233171</td>\n",
                            "      <td>-0.234370</td>\n",
                            "      <td>-0.232975</td>\n",
                            "      <td>-0.223516</td>\n",
                            "      <td>-0.218609</td>\n",
                            "      <td>-0.219329</td>\n",
                            "    </tr>\n",
                            "    <tr>\n",
                            "      <th>1</th>\n",
                            "      <td>-0.158676</td>\n",
                            "      <td>-0.178665</td>\n",
                            "      <td>-0.180166</td>\n",
                            "      <td>-0.188266</td>\n",
                            "      <td>-0.175070</td>\n",
                            "      <td>-0.161168</td>\n",
                            "      <td>-0.134688</td>\n",
                            "      <td>-0.105618</td>\n",
                            "      <td>-0.119270</td>\n",
                            "      <td>-0.091822</td>\n",
                            "      <td>...</td>\n",
                            "      <td>-0.116680</td>\n",
                            "      <td>-0.110850</td>\n",
                            "      <td>-0.150293</td>\n",
                            "      <td>-0.098866</td>\n",
                            "      <td>-0.152859</td>\n",
                            "      <td>-0.142645</td>\n",
                            "      <td>-0.155304</td>\n",
                            "      <td>-0.110080</td>\n",
                            "      <td>-0.131449</td>\n",
                            "      <td>-0.130962</td>\n",
                            "    </tr>\n",
                            "    <tr>\n",
                            "      <th>2</th>\n",
                            "      <td>-0.199114</td>\n",
                            "      <td>-0.211128</td>\n",
                            "      <td>-0.195138</td>\n",
                            "      <td>-0.166782</td>\n",
                            "      <td>-0.195036</td>\n",
                            "      <td>-0.194045</td>\n",
                            "      <td>-0.199725</td>\n",
                            "      <td>-0.219256</td>\n",
                            "      <td>-0.222207</td>\n",
                            "      <td>-0.205154</td>\n",
                            "      <td>...</td>\n",
                            "      <td>-0.192263</td>\n",
                            "      <td>-0.217668</td>\n",
                            "      <td>-0.197005</td>\n",
                            "      <td>-0.216056</td>\n",
                            "      <td>-0.195125</td>\n",
                            "      <td>-0.193205</td>\n",
                            "      <td>-0.201976</td>\n",
                            "      <td>-0.193106</td>\n",
                            "      <td>-0.189197</td>\n",
                            "      <td>-0.206391</td>\n",
                            "    </tr>\n",
                            "    <tr>\n",
                            "      <th>3</th>\n",
                            "      <td>-0.036595</td>\n",
                            "      <td>-0.037734</td>\n",
                            "      <td>-0.017077</td>\n",
                            "      <td>-0.057986</td>\n",
                            "      <td>-0.052252</td>\n",
                            "      <td>-0.033158</td>\n",
                            "      <td>-0.020228</td>\n",
                            "      <td>-0.032603</td>\n",
                            "      <td>-0.023876</td>\n",
                            "      <td>-0.046224</td>\n",
                            "      <td>...</td>\n",
                            "      <td>0.062458</td>\n",
                            "      <td>-0.107888</td>\n",
                            "      <td>-0.036940</td>\n",
                            "      <td>-0.030034</td>\n",
                            "      <td>-0.039882</td>\n",
                            "      <td>-0.003321</td>\n",
                            "      <td>0.006163</td>\n",
                            "      <td>-0.007077</td>\n",
                            "      <td>-0.047515</td>\n",
                            "      <td>-0.045054</td>\n",
                            "    </tr>\n",
                            "    <tr>\n",
                            "      <th>4</th>\n",
                            "      <td>0.090839</td>\n",
                            "      <td>0.094680</td>\n",
                            "      <td>0.101662</td>\n",
                            "      <td>0.056721</td>\n",
                            "      <td>0.042392</td>\n",
                            "      <td>0.068095</td>\n",
                            "      <td>0.101699</td>\n",
                            "      <td>0.144664</td>\n",
                            "      <td>0.140685</td>\n",
                            "      <td>0.166099</td>\n",
                            "      <td>...</td>\n",
                            "      <td>0.274818</td>\n",
                            "      <td>0.194913</td>\n",
                            "      <td>0.097767</td>\n",
                            "      <td>0.161314</td>\n",
                            "      <td>0.088485</td>\n",
                            "      <td>0.165555</td>\n",
                            "      <td>0.182740</td>\n",
                            "      <td>0.265603</td>\n",
                            "      <td>0.123040</td>\n",
                            "      <td>0.132454</td>\n",
                            "    </tr>\n",
                            "  </tbody>\n",
                            "</table>\n",
                            "<p>5 rows × 31 columns</p>\n",
                            "</div>"
                        ],
                        "text/plain": [
                            "    TOT_POP       0-9    19-Oct     20-29     30-39     40-49     50-59  \\\n",
                            "0 -0.232556 -0.227731 -0.234284 -0.232951 -0.226353 -0.231316 -0.229599   \n",
                            "1 -0.158676 -0.178665 -0.180166 -0.188266 -0.175070 -0.161168 -0.134688   \n",
                            "2 -0.199114 -0.211128 -0.195138 -0.166782 -0.195036 -0.194045 -0.199725   \n",
                            "3 -0.036595 -0.037734 -0.017077 -0.057986 -0.052252 -0.033158 -0.020228   \n",
                            "4  0.090839  0.094680  0.101662  0.056721  0.042392  0.068095  0.101699   \n",
                            "\n",
                            "      60-69     70-79       80+  ...  \\\n",
                            "0 -0.233425 -0.234680 -0.234420  ...   \n",
                            "1 -0.105618 -0.119270 -0.091822  ...   \n",
                            "2 -0.219256 -0.222207 -0.205154  ...   \n",
                            "3 -0.032603 -0.023876 -0.046224  ...   \n",
                            "4  0.144664  0.140685  0.166099  ...   \n",
                            "\n",
                            "   Family Medicine/General Practice Primary Care (2019)  \\\n",
                            "0                                          -0.212643      \n",
                            "1                                          -0.116680      \n",
                            "2                                          -0.192263      \n",
                            "3                                           0.062458      \n",
                            "4                                           0.274818      \n",
                            "\n",
                            "   Total Specialist Physicians (2019)  Total Population  Population Aged 60+  \\\n",
                            "0                           -0.208590         -0.231195            -0.229737   \n",
                            "1                           -0.110850         -0.150293            -0.098866   \n",
                            "2                           -0.217668         -0.197005            -0.216056   \n",
                            "3                           -0.107888         -0.036940            -0.030034   \n",
                            "4                            0.194913          0.097767             0.161314   \n",
                            "\n",
                            "   county_pop2018_18 and older  anycondition_number  Obesity_number  \\\n",
                            "0                    -0.233171            -0.234370       -0.232975   \n",
                            "1                    -0.152859            -0.142645       -0.155304   \n",
                            "2                    -0.195125            -0.193205       -0.201976   \n",
                            "3                    -0.039882            -0.003321        0.006163   \n",
                            "4                     0.088485             0.165555        0.182740   \n",
                            "\n",
                            "   COPD_number  diabetes_number  CKD_number  \n",
                            "0    -0.223516        -0.218609   -0.219329  \n",
                            "1    -0.110080        -0.131449   -0.130962  \n",
                            "2    -0.193106        -0.189197   -0.206391  \n",
                            "3    -0.007077        -0.047515   -0.045054  \n",
                            "4     0.265603         0.123040    0.132454  \n",
                            "\n",
                            "[5 rows x 31 columns]"
                        ]
                    },
                    "execution_count": 12,
                    "metadata": {},
                    "output_type": "execute_result"
                }
            ],
            "source": [
                "# division entre train y test\n",
                "X = total_data_scal.drop(\"Heart disease_number\", axis = 1)\n",
                "y = total_data_scal[\"Heart disease_number\"]\n",
                "\n",
                "X_train, X_test, y_train, y_test = train_test_split(X, y, test_size = 0.2, random_state = 42)\n",
                "train_indices = list(X_train.index)\n",
                "test_indices = list(X_test.index)\n",
                "\n",
                "# Seleccionamos el 30% de las mejores opciones\n",
                "k = int(len(X_train.columns) * 0.3)\n",
                "selection_model = SelectKBest(score_func = f_regression, k = k)\n",
                "selection_model.fit(X_train, y_train)\n",
                "ix = selection_model.get_support()\n",
                "\n",
                "X_train_sel = pd.DataFrame(selection_model.transform(X_train), columns = X_train.columns.values[ix])\n",
                "X_test_sel = pd.DataFrame(selection_model.transform(X_test), columns = X_test.columns.values[ix])\n",
                "\n",
                "X_train_sel.head()"
            ]
        },
        {
            "cell_type": "markdown",
            "metadata": {},
            "source": [
                "Guardamos los procesos de train y test"
            ]
        },
        {
            "cell_type": "code",
            "execution_count": 13,
            "metadata": {},
            "outputs": [],
            "source": [
                "X_train_sel[\"Heart disease_number\"] = list(y_train)\n",
                "X_test_sel[\"Heart disease_number\"] = list(y_test)\n",
                "\n",
                "X_train_sel.to_csv(\"../data/processed/clean_train.csv\", index = False)\n",
                "X_test_sel.to_csv(\"../data/processed/clean_test.csv\", index = False)"
            ]
        },
        {
            "cell_type": "markdown",
            "metadata": {},
            "source": [
                "MODEL TRAINING"
            ]
        },
        {
            "cell_type": "code",
            "execution_count": 14,
            "metadata": {},
            "outputs": [],
            "source": [
                "train_data = pd.read_csv(\"../data/processed/clean_train.csv\")\n",
                "test_data = pd.read_csv(\"../data/processed/clean_test.csv\")\n",
                "\n",
                "X_train = train_data.drop([\"Heart disease_number\"], axis = 1)\n",
                "y_train = train_data[\"Heart disease_number\"]\n",
                "X_test = test_data.drop([\"Heart disease_number\"], axis = 1)\n",
                "y_test = test_data[\"Heart disease_number\"]"
            ]
        },
        {
            "cell_type": "code",
            "execution_count": 15,
            "metadata": {},
            "outputs": [
                {
                    "name": "stderr",
                    "output_type": "stream",
                    "text": [
                        "/home/vscode/.local/lib/python3.11/site-packages/sklearn/linear_model/_logistic.py:460: ConvergenceWarning: lbfgs failed to converge (status=1):\n",
                        "STOP: TOTAL NO. of ITERATIONS REACHED LIMIT.\n",
                        "\n",
                        "Increase the number of iterations (max_iter) or scale the data as shown in:\n",
                        "    https://scikit-learn.org/stable/modules/preprocessing.html\n",
                        "Please also refer to the documentation for alternative solver options:\n",
                        "    https://scikit-learn.org/stable/modules/linear_model.html#logistic-regression\n",
                        "  n_iter_i = _check_optimize_result(\n"
                    ]
                },
                {
                    "data": {
                        "text/html": [
                            "<style>#sk-container-id-1 {color: black;}#sk-container-id-1 pre{padding: 0;}#sk-container-id-1 div.sk-toggleable {background-color: white;}#sk-container-id-1 label.sk-toggleable__label {cursor: pointer;display: block;width: 100%;margin-bottom: 0;padding: 0.3em;box-sizing: border-box;text-align: center;}#sk-container-id-1 label.sk-toggleable__label-arrow:before {content: \"▸\";float: left;margin-right: 0.25em;color: #696969;}#sk-container-id-1 label.sk-toggleable__label-arrow:hover:before {color: black;}#sk-container-id-1 div.sk-estimator:hover label.sk-toggleable__label-arrow:before {color: black;}#sk-container-id-1 div.sk-toggleable__content {max-height: 0;max-width: 0;overflow: hidden;text-align: left;background-color: #f0f8ff;}#sk-container-id-1 div.sk-toggleable__content pre {margin: 0.2em;color: black;border-radius: 0.25em;background-color: #f0f8ff;}#sk-container-id-1 input.sk-toggleable__control:checked~div.sk-toggleable__content {max-height: 200px;max-width: 100%;overflow: auto;}#sk-container-id-1 input.sk-toggleable__control:checked~label.sk-toggleable__label-arrow:before {content: \"▾\";}#sk-container-id-1 div.sk-estimator input.sk-toggleable__control:checked~label.sk-toggleable__label {background-color: #d4ebff;}#sk-container-id-1 div.sk-label input.sk-toggleable__control:checked~label.sk-toggleable__label {background-color: #d4ebff;}#sk-container-id-1 input.sk-hidden--visually {border: 0;clip: rect(1px 1px 1px 1px);clip: rect(1px, 1px, 1px, 1px);height: 1px;margin: -1px;overflow: hidden;padding: 0;position: absolute;width: 1px;}#sk-container-id-1 div.sk-estimator {font-family: monospace;background-color: #f0f8ff;border: 1px dotted black;border-radius: 0.25em;box-sizing: border-box;margin-bottom: 0.5em;}#sk-container-id-1 div.sk-estimator:hover {background-color: #d4ebff;}#sk-container-id-1 div.sk-parallel-item::after {content: \"\";width: 100%;border-bottom: 1px solid gray;flex-grow: 1;}#sk-container-id-1 div.sk-label:hover label.sk-toggleable__label {background-color: #d4ebff;}#sk-container-id-1 div.sk-serial::before {content: \"\";position: absolute;border-left: 1px solid gray;box-sizing: border-box;top: 0;bottom: 0;left: 50%;z-index: 0;}#sk-container-id-1 div.sk-serial {display: flex;flex-direction: column;align-items: center;background-color: white;padding-right: 0.2em;padding-left: 0.2em;position: relative;}#sk-container-id-1 div.sk-item {position: relative;z-index: 1;}#sk-container-id-1 div.sk-parallel {display: flex;align-items: stretch;justify-content: center;background-color: white;position: relative;}#sk-container-id-1 div.sk-item::before, #sk-container-id-1 div.sk-parallel-item::before {content: \"\";position: absolute;border-left: 1px solid gray;box-sizing: border-box;top: 0;bottom: 0;left: 50%;z-index: -1;}#sk-container-id-1 div.sk-parallel-item {display: flex;flex-direction: column;z-index: 1;position: relative;background-color: white;}#sk-container-id-1 div.sk-parallel-item:first-child::after {align-self: flex-end;width: 50%;}#sk-container-id-1 div.sk-parallel-item:last-child::after {align-self: flex-start;width: 50%;}#sk-container-id-1 div.sk-parallel-item:only-child::after {width: 0;}#sk-container-id-1 div.sk-dashed-wrapped {border: 1px dashed gray;margin: 0 0.4em 0.5em 0.4em;box-sizing: border-box;padding-bottom: 0.4em;background-color: white;}#sk-container-id-1 div.sk-label label {font-family: monospace;font-weight: bold;display: inline-block;line-height: 1.2em;}#sk-container-id-1 div.sk-label-container {text-align: center;}#sk-container-id-1 div.sk-container {/* jupyter's `normalize.less` sets `[hidden] { display: none; }` but bootstrap.min.css set `[hidden] { display: none !important; }` so we also need the `!important` here to be able to override the default hidden behavior on the sphinx rendered scikit-learn.org. See: https://github.com/scikit-learn/scikit-learn/issues/21755 */display: inline-block !important;position: relative;}#sk-container-id-1 div.sk-text-repr-fallback {display: none;}</style><div id=\"sk-container-id-1\" class=\"sk-top-container\"><div class=\"sk-text-repr-fallback\"><pre>LogisticRegression()</pre><b>In a Jupyter environment, please rerun this cell to show the HTML representation or trust the notebook. <br />On GitHub, the HTML representation is unable to render, please try loading this page with nbviewer.org.</b></div><div class=\"sk-container\" hidden><div class=\"sk-item\"><div class=\"sk-estimator sk-toggleable\"><input class=\"sk-toggleable__control sk-hidden--visually\" id=\"sk-estimator-id-1\" type=\"checkbox\" checked><label for=\"sk-estimator-id-1\" class=\"sk-toggleable__label sk-toggleable__label-arrow\">LogisticRegression</label><div class=\"sk-toggleable__content\"><pre>LogisticRegression()</pre></div></div></div></div></div>"
                        ],
                        "text/plain": [
                            "LogisticRegression()"
                        ]
                    },
                    "execution_count": 15,
                    "metadata": {},
                    "output_type": "execute_result"
                }
            ],
            "source": [
                "model = LogisticRegression()\n",
                "model.fit(X_train, y_train)"
            ]
        },
        {
            "cell_type": "code",
            "execution_count": 16,
            "metadata": {},
            "outputs": [
                {
                    "name": "stdout",
                    "output_type": "stream",
                    "text": [
                        "Error Cuadrático Medio: 4755.442059695504\n",
                        "R2 Score: 0.7416268958253391\n"
                    ]
                }
            ],
            "source": [
                "y_pred = model.predict(X_test)\n",
                "\n",
                "print(f\"Error Cuadrático Medio: {np.sqrt(mean_squared_error(y_test, y_pred))}\")\n",
                "print(f\"R2 Score: {r2_score(y_test, y_pred)}\")"
            ]
        },
        {
            "cell_type": "markdown",
            "metadata": {},
            "source": [
                "Estos datos no son muy precisos vamos a probar con los modelos Lasso y Ridge:"
            ]
        },
        {
            "cell_type": "code",
            "execution_count": 17,
            "metadata": {},
            "outputs": [
                {
                    "name": "stdout",
                    "output_type": "stream",
                    "text": [
                        "Error cuadrático medio de raiz de Lasso: 429.62231187142436\n",
                        "R2 Score: 0.9978911816625889\n",
                        "Error cuadrático medio de raiz de Ridge: 408.9039633176806\n",
                        "R2 Score: 0.9980896710652084\n"
                    ]
                },
                {
                    "name": "stderr",
                    "output_type": "stream",
                    "text": [
                        "/home/vscode/.local/lib/python3.11/site-packages/sklearn/linear_model/_coordinate_descent.py:628: ConvergenceWarning: Objective did not converge. You might want to increase the number of iterations, check the scale of the features or consider increasing regularisation. Duality gap: 4.505e+08, tolerance: 7.097e+07\n",
                        "  model = cd_fast.enet_coordinate_descent(\n"
                    ]
                }
            ],
            "source": [
                "alpha = 1.0\n",
                "lasso_model = Lasso(alpha = alpha)\n",
                "ridge_model = Ridge(alpha = alpha)\n",
                "\n",
                "lasso_model.fit(X_train, y_train)\n",
                "ridge_model.fit(X_train, y_train)\n",
                "\n",
                "lasso_y_pred = lasso_model.predict(X_test)\n",
                "ridge_y_pred = ridge_model.predict(X_test)\n",
                "\n",
                "print(f\"Error cuadrático medio de raiz de Lasso: {np.sqrt(mean_squared_error(y_test, lasso_y_pred))}\")\n",
                "print(f\"R2 Score: {r2_score(y_test, lasso_y_pred)}\")\n",
                "\n",
                "print(f\"Error cuadrático medio de raiz de Ridge: {np.sqrt(mean_squared_error(y_test, ridge_y_pred))}\")\n",
                "print(f\"R2 Score: {r2_score(y_test, ridge_y_pred)}\")"
            ]
        },
        {
            "cell_type": "markdown",
            "metadata": {},
            "source": [
                "Los datos ahora son mejores, guardamos."
            ]
        },
        {
            "cell_type": "code",
            "execution_count": 19,
            "metadata": {},
            "outputs": [],
            "source": [
                "from pickle import dump\n",
                "\n",
                "with open(\"../models/lasso-1.0.pkl\", \"wb\") as f:\n",
                "    dump(lasso_model, f)\n",
                "\n",
                "with open(\"../models/ridge-1.0.pkl\", \"wb\") as f:\n",
                "    dump(ridge_model, f)"
            ]
        }
    ],
    "metadata": {
        "kernelspec": {
            "display_name": "Python 3.8.13 64-bit ('3.8.13')",
            "language": "python",
            "name": "python3"
        },
        "language_info": {
            "codemirror_mode": {
                "name": "ipython",
                "version": 3
            },
            "file_extension": ".py",
            "mimetype": "text/x-python",
            "name": "python",
            "nbconvert_exporter": "python",
            "pygments_lexer": "ipython3",
            "version": "3.11.4"
        },
        "orig_nbformat": 4,
        "vscode": {
            "interpreter": {
                "hash": "110cc1dee26208153f2972f08a2ad52b6a56238dc66d48e87fb757ef2996db56"
            }
        }
    },
    "nbformat": 4,
    "nbformat_minor": 2
}
